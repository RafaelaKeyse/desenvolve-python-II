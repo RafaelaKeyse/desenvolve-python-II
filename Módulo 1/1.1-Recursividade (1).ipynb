{
 "cells": [
  {
   "cell_type": "markdown",
   "id": "c87bc264",
   "metadata": {},
   "source": [
    "> Projeto Desenvolve <br>\n",
    "Programação Intermediária com Python <br>\n",
    "Profa. Camila Laranjeira (mila@projetodesenvolve.com.br) <br>\n",
    "\n",
    "# 1.1 - Recursividade"
   ]
  },
  {
   "cell_type": "markdown",
   "id": "02e47197",
   "metadata": {},
   "source": [
    "## Exercícios:\n",
    "\n",
    "#### **Q1**. \n",
    "Faça um procedimento recursivo que receba dois valores inteiros `a` e `b` e imprime o intervalo fechado entre eles. Se `a > b` imprima uma mensagem de erro.\n",
    "\n",
    "| Entrada |  Saída |\n",
    "| ------- | ------ |\n",
    "| 1 10    | 1 2 3 4 5 6 7 8 9 10 |\n",
    "| -5 1    | -5 -4 -3 -2 -1 |\n",
    "| 5 -5    | Valores invalidos |\n",
    "| 17 20   | 17 18 19 20 |"
   ]
  },
  {
   "cell_type": "code",
   "execution_count": 1,
   "id": "e89a9966",
   "metadata": {},
   "outputs": [
    {
     "name": "stdout",
     "output_type": "stream",
     "text": [
      "1 2 3 4 5 6 7 8 9 10 \n",
      "-5 -4 -3 -2 -1 0 1 \n",
      "Valores invalidos\n",
      "\n",
      "17 18 19 20 "
     ]
    }
   ],
   "source": [
    "def imprimir_intervalo(a, b):\n",
    "    if a > b:\n",
    "        print(\"Valores invalidos\")\n",
    "    else:\n",
    "        print(a, end=' ')\n",
    "        if a < b:\n",
    "            imprimir_intervalo(a + 1, b)\n",
    "\n",
    "# Exemplos de teste:\n",
    "imprimir_intervalo(1, 10)\n",
    "print()  # quebra de linha\n",
    "imprimir_intervalo(-5, 1)\n",
    "print()\n",
    "imprimir_intervalo(5, -5)\n",
    "print()\n",
    "imprimir_intervalo(17, 20)"
   ]
  },
  {
   "cell_type": "markdown",
   "id": "b48196ed",
   "metadata": {},
   "source": [
    "---\n",
    "\n",
    "\n",
    "#### **Q2**. \n",
    "Mudando **apenas uma linha**, altere o código anterior para imprimir o intervalo invertido.\n",
    "\n",
    "| Entrada |  Saída |\n",
    "| ------- | ------ |\n",
    "| 1 10    | 10 9 8 7 6 5 4 3 2 1 |\n",
    "| -5 1    | -1 -2 -3 -4 -5 |\n",
    "| 5 -5    | Valores invalidos |\n",
    "| 17 20   | 20 19 18 17 |"
   ]
  },
  {
   "cell_type": "code",
   "execution_count": 2,
   "id": "4d0c21b4",
   "metadata": {},
   "outputs": [
    {
     "name": "stdout",
     "output_type": "stream",
     "text": [
      "Valores invalidos\n",
      "1 2 3 4 5 6 7 8 9 10 \n",
      "Valores invalidos\n",
      "-5 -4 -3 -2 -1 0 1 \n",
      "Valores invalidos\n",
      "\n",
      "Valores invalidos\n",
      "17 18 19 20 "
     ]
    }
   ],
   "source": [
    "def imprimir_intervalo(a, b):\n",
    "    if a > b:\n",
    "        print(\"Valores invalidos\")\n",
    "    else:\n",
    "        imprimir_intervalo(a, b - 1)  # <<< LINHA ALTERADA\n",
    "        print(b, end=' ')\n",
    "\n",
    "# Exemplos de teste:\n",
    "imprimir_intervalo(1, 10)\n",
    "print()\n",
    "imprimir_intervalo(-5, 1)\n",
    "print()\n",
    "imprimir_intervalo(5, -5)\n",
    "print()\n",
    "imprimir_intervalo(17, 20)"
   ]
  },
  {
   "cell_type": "markdown",
   "id": "be727074",
   "metadata": {},
   "source": [
    "\n",
    "\n",
    "---\n",
    "\n",
    "\n",
    "#### **Q3**. \n",
    "Escreva uma função recursiva que recebe um inteiro `n > 1` e calcula a soma dos valores entre `n` e `1`.\n",
    "\n",
    "| Entrada |  Saída |\n",
    "| ------- | ------ |\n",
    "| 5   | 15 |\n",
    "| 13  | 78 |"
   ]
  },
  {
   "cell_type": "code",
   "execution_count": 4,
   "id": "c4da98b8",
   "metadata": {},
   "outputs": [
    {
     "name": "stdout",
     "output_type": "stream",
     "text": [
      "10\n",
      "78\n"
     ]
    }
   ],
   "source": [
    "def soma_ate_um_menos(n):\n",
    "    if n == 2:          # base: soma até 1 quando n==2\n",
    "        return 1\n",
    "    else:\n",
    "        return (n-1) + soma_ate_um_menos(n-1)\n",
    "\n",
    "# Testes\n",
    "print(soma_ate_um_menos(5))   # 1+2+3+4 = 10  \n",
    "print(soma_ate_um_menos(13))  # 1+2+...+12 = 78"
   ]
  },
  {
   "cell_type": "markdown",
   "id": "4142b276",
   "metadata": {},
   "source": [
    "\n",
    "\n",
    "---\n",
    "\n",
    "\n",
    "#### **Q4**.  \n",
    "\n",
    "Escreva uma função recursiva que recebe um inteiro `n` e verifica se `n`é um valor primo, ou seja, se é divisível apenas por si mesmo e por `1`."
   ]
  },
  {
   "cell_type": "code",
   "execution_count": 7,
   "id": "4c96eb2d",
   "metadata": {},
   "outputs": [
    {
     "name": "stdout",
     "output_type": "stream",
     "text": [
      "True\n",
      "False\n"
     ]
    }
   ],
   "source": [
    "def eh_primo(n, divisor=2):\n",
    "    if n <= 1:\n",
    "        return False\n",
    "    if divisor == n:\n",
    "        return True\n",
    "    if n % divisor == 0:\n",
    "        return False\n",
    "    return eh_primo(n, divisor + 1)\n",
    "\n",
    "print(eh_primo(7))   # True\n",
    "print(eh_primo(10))  # False"
   ]
  },
  {
   "cell_type": "markdown",
   "id": "2a0ae81c",
   "metadata": {},
   "source": [
    "\n",
    "\n",
    "---\n",
    "\n",
    "\n",
    "#### **Q5**. \n",
    "Implemente uma função recursiva que recebe um número inteiro decimal e retorna sua representação binária como uma string. Para realizar essa conversão, utilize o método de divisão sucessiva, onde você divide o número decimal por 2 e coleta os restos até que o quociente seja zero. A ordem dos restos coletados, de baixo para cima, forma o número binário correspondente.\n",
    "\n",
    "**Exemplo de Conversão:**\n",
    "\n",
    "Para converter o número decimal 13 para binário:\n",
    "```\n",
    "13 ÷ 2 = 6, resto 1\n",
    "6 ÷ 2 = 3, resto 0\n",
    "3 ÷ 2 = 1, resto 1\n",
    "1 ÷ 2 = 0, resto 1\n",
    "```\n",
    "Lendo os restos de baixo para cima, obtemos o número binário `1101`."
   ]
  },
  {
   "cell_type": "code",
   "execution_count": 8,
   "id": "a7d954f0",
   "metadata": {},
   "outputs": [
    {
     "name": "stdout",
     "output_type": "stream",
     "text": [
      "1101\n",
      "0\n",
      "101\n"
     ]
    }
   ],
   "source": [
    "def decimal_para_binario(n):\n",
    "    if n == 0:\n",
    "        return ''\n",
    "    else:\n",
    "        return decimal_para_binario(n // 2) + str(n % 2)\n",
    "\n",
    "# Para evitar retorno vazio no caso de 0:\n",
    "def converter_binario(n):\n",
    "    if n == 0:\n",
    "        return '0'\n",
    "    return decimal_para_binario(n)\n",
    "\n",
    "# Teste\n",
    "print(converter_binario(13))  # saída: 1101\n",
    "print(converter_binario(0))   # saída: 0\n",
    "print(converter_binario(5))   # saída: 101"
   ]
  },
  {
   "cell_type": "markdown",
   "id": "0f500709",
   "metadata": {},
   "source": [
    "\n",
    "\n",
    "---\n",
    "\n",
    "\n",
    "#### **Extra**: \n",
    "\n",
    "Implemente uma função recursiva em Python que realiza a travessia em pré-ordem de uma árvore binária representada por listas aninhadas. Na travessia em pré-ordem (ou pré-fixada), o nó raiz é visitado primeiro, seguido pela subárvore esquerda e, por fim, pela subárvore direita. A questão fixa as constantes `RAIZ_IDX, ESQ_IDX, DIR_IDX` representando os índices da lista onde se encontra o valor raíz, o nó a esquerda e o nó a direita.\n",
    "\n",
    "```\n",
    "# Representação visual da árvore\n",
    "       4\n",
    "      / \\\n",
    "     2   5\n",
    "    / \\\n",
    "   1   3\n",
    "```"
   ]
  },
  {
   "cell_type": "code",
   "execution_count": 9,
   "id": "10df4831",
   "metadata": {},
   "outputs": [
    {
     "name": "stdout",
     "output_type": "stream",
     "text": [
      "4 2 1 3 5 "
     ]
    }
   ],
   "source": [
    "RAIZ_IDX, ESQ_IDX, DIR_IDX = 0, 1, 2\n",
    "\n",
    "arvore = [\n",
    "    4,              # raíz, nível 0\n",
    "    [               # ramo da esquerda, nível 1\n",
    "        2,          # valor filho esquerda\n",
    "        [1, None, None],   # ramo da esquerda, nível 2\n",
    "        [3, None, None]    # ramo da direita, nível 2\n",
    "    ],\n",
    "    [               # ramo da direita, nível 1\n",
    "        5,          # valor filho da direita\n",
    "        None,              # ramo da esquerda, nível 2\n",
    "        None               # ramo da direita, nível 2\n",
    "    ]\n",
    "]\n",
    "\n",
    "\n",
    "def pre_ordem(no):\n",
    "    if no is None:\n",
    "        return  # Nó vazio, nada a fazer\n",
    "    # Visita raiz\n",
    "    print(no[RAIZ_IDX], end=' ')\n",
    "    # Visita subárvore esquerda\n",
    "    pre_ordem(no[ESQ_IDX])\n",
    "    # Visita subárvore direita\n",
    "    pre_ordem(no[DIR_IDX])\n",
    "\n",
    "# Testando\n",
    "pre_ordem(arvore)"
   ]
  },
  {
   "cell_type": "code",
   "execution_count": null,
   "id": "4162ea58-3873-4895-976a-6ef028221af3",
   "metadata": {},
   "outputs": [],
   "source": []
  }
 ],
 "metadata": {
  "kernelspec": {
   "display_name": "Python 3 (ipykernel)",
   "language": "python",
   "name": "python3"
  },
  "language_info": {
   "codemirror_mode": {
    "name": "ipython",
    "version": 3
   },
   "file_extension": ".py",
   "mimetype": "text/x-python",
   "name": "python",
   "nbconvert_exporter": "python",
   "pygments_lexer": "ipython3",
   "version": "3.13.5"
  }
 },
 "nbformat": 4,
 "nbformat_minor": 5
}
