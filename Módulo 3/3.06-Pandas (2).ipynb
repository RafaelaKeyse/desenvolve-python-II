{
 "cells": [
  {
   "cell_type": "markdown",
   "metadata": {},
   "source": [
    "> Projeto Desenvolve <br>\n",
    "Programação Intermediária com Python <br>\n",
    "Profa. Camila Laranjeira (mila@projetodesenvolve.com.br) <br>\n",
    "\n",
    "# 3.6 - Pandas"
   ]
  },
  {
   "cell_type": "markdown",
   "metadata": {},
   "source": [
    "## Exercícios\n",
    "Antes de continuar, baixe os arquivos das bases de dados de partidas em Copas do Mundo e salve na mesma pasta deste notebook.\n",
    "* https://raw.githubusercontent.com/camilalaranjeira/python-intermediario/main/fifa-wc/matches_1930_2022.csv\n",
    "* https://raw.githubusercontent.com/camilalaranjeira/python-intermediario/main/fifa-wc/matches_1991_2023.csv\n",
    "\n",
    "A célula a seguir já carrega os dados em CSV e ajusta as colunas para trabalharmos com os nomes traduzidos (como fizemos em aula)."
   ]
  },
  {
   "cell_type": "code",
   "execution_count": null,
   "metadata": {},
   "outputs": [],
   "source": [
    "import pandas as pd\n",
    "pd.set_option('display.max_columns',None)\n",
    "pd.set_option('display.max_rows',12)\n",
    "\n",
    "wcwomen_df = pd.read_csv('matches_1991_2023.csv')\n",
    "wcmen_df   = pd.read_csv('matches_1930_2022.csv')\n",
    "wc = pd.concat((wcwomen_df,wcmen_df)).reset_index()\n",
    "\n",
    "nomes_traduzidos = {'home_team': 'time_1', 'away_team': 'time_2', 'home_score': 'gols_1', 'away_score': 'gols_2',\n",
    "                    'Date': 'data', 'Year': 'ano', 'Host': 'país_sede', 'Attendance': 'comparecimento',\n",
    "                    'Score': 'resultado', 'Round': 'rodada', 'home_goal': 'gols_1_detalhes', 'away_goal': 'gols_2_detalhes',\n",
    "                    'home_own_goal': 'gols_1_contra', 'away_own_goal': 'gols_2_contra',\n",
    "                    'home_penalty_goal': 'gols_1_penalti', 'away_penalty_goal': 'gols_2_penalti',\n",
    "                    'home_red_card': 'cartao_vermelho_1', 'away_red_card': 'cartao_vermelho_2',\n",
    "                    'home_yellow_card_long': 'cartao_amarelo_1', 'away_yellow_card_long': 'cartao_amarelo_2'}\n",
    "\n",
    "wc = wc.loc[:, nomes_traduzidos.keys()]\n",
    "wc.columns = nomes_traduzidos.values()\n",
    "\n",
    "copa = wc['ano'].apply( lambda x: 'Masculina' if x % 2 == 0 else 'Feminina').astype('string')\n",
    "wc['copa'] = copa\n",
    "display(wc)"
   ]
  },
  {
   "cell_type": "markdown",
   "metadata": {},
   "source": [
    "#### Q1.\n",
    "Faça as conversões de tipo necessárias para que a saída do comando `wc.info()` seja como apresentado a seguir. E **salve o novo dataframe** com o comando `df.to_csv('wc_formatado.csv')`.\n",
    "\n",
    "```\n",
    "Data columns (total 21 columns):\n",
    " #   Column             Non-Null Count  Dtype         \n",
    "---  ------             --------------  -----         \n",
    " 0   time_1             1312 non-null   string        \n",
    " 1   time_2             1312 non-null   string        \n",
    " 2   gols_1             1312 non-null   int64         \n",
    " 3   gols_2             1312 non-null   int64         \n",
    " 4   data               1312 non-null   datetime64[ns]\n",
    " 5   ano                1312 non-null   int64         \n",
    " 6   país_sede          1312 non-null   string        \n",
    " 7   comparecimento     1312 non-null   int64         \n",
    " 8   resultado          1312 non-null   string        \n",
    " 9   rodada             1312 non-null   category      \n",
    " 10  gols_1_detalhes    970 non-null    string        \n",
    " 11  gols_2_detalhes    771 non-null    string        \n",
    " 12  gols_1_contra      57 non-null     string        \n",
    " 13  gols_2_contra      30 non-null     string        \n",
    " 14  gols_1_penalti     170 non-null    string        \n",
    " 15  gols_2_penalti     119 non-null    string        \n",
    " 16  cartao_vermelho_1  59 non-null     string        \n",
    " 17  cartao_vermelho_2  65 non-null     string        \n",
    " 18  cartao_amarelo_1   834 non-null    string        \n",
    " 19  cartao_amarelo_2   857 non-null    string        \n",
    " 20  copa               1312 non-null   string \n",
    "```"
   ]
  },
  {
   "cell_type": "code",
   "execution_count": 6,
   "metadata": {},
   "outputs": [
    {
     "name": "stdout",
     "output_type": "stream",
     "text": [
      "<class 'pandas.core.frame.DataFrame'>\n",
      "RangeIndex: 1312 entries, 0 to 1311\n",
      "Data columns (total 21 columns):\n",
      " #   Column             Non-Null Count  Dtype         \n",
      "---  ------             --------------  -----         \n",
      " 0   time_1             1312 non-null   string        \n",
      " 1   time_2             1312 non-null   string        \n",
      " 2   gols_1             1312 non-null   int64         \n",
      " 3   gols_2             1312 non-null   int64         \n",
      " 4   data               1312 non-null   datetime64[ns]\n",
      " 5   ano                1312 non-null   int64         \n",
      " 6   país_sede          1312 non-null   string        \n",
      " 7   comparecimento     1312 non-null   int64         \n",
      " 8   resultado          1312 non-null   string        \n",
      " 9   rodada             1312 non-null   category      \n",
      " 10  gols_1_detalhes    970 non-null    string        \n",
      " 11  gols_2_detalhes    771 non-null    string        \n",
      " 12  gols_1_contra      57 non-null     string        \n",
      " 13  gols_2_contra      30 non-null     string        \n",
      " 14  gols_1_penalti     170 non-null    string        \n",
      " 15  gols_2_penalti     119 non-null    string        \n",
      " 16  cartao_vermelho_1  59 non-null     string        \n",
      " 17  cartao_vermelho_2  65 non-null     string        \n",
      " 18  cartao_amarelo_1   834 non-null    string        \n",
      " 19  cartao_amarelo_2   857 non-null    string        \n",
      " 20  copa               1312 non-null   string        \n",
      "dtypes: category(1), datetime64[ns](1), int64(4), string(15)\n",
      "memory usage: 206.8 KB\n"
     ]
    }
   ],
   "source": [
    "import pandas as pd\n",
    "\n",
    "# Ajustes de exibição\n",
    "pd.set_option('display.max_columns', None)\n",
    "pd.set_option('display.max_rows', 12)\n",
    "\n",
    "# Leitura dos arquivos\n",
    "wcwomen_df = pd.read_csv('matches_1991_2023.csv')\n",
    "wcmen_df = pd.read_csv('matches_1930_2022.csv')\n",
    "\n",
    "# Concatenar os dados\n",
    "wc = pd.concat((wcwomen_df, wcmen_df)).reset_index(drop=True)\n",
    "\n",
    "# Traduzir nomes das colunas\n",
    "nomes_traduzidos = {\n",
    "    'home_team': 'time_1', 'away_team': 'time_2', 'home_score': 'gols_1', 'away_score': 'gols_2',\n",
    "    'Date': 'data', 'Year': 'ano', 'Host': 'país_sede', 'Attendance': 'comparecimento',\n",
    "    'Score': 'resultado', 'Round': 'rodada', 'home_goal': 'gols_1_detalhes', 'away_goal': 'gols_2_detalhes',\n",
    "    'home_own_goal': 'gols_1_contra', 'away_own_goal': 'gols_2_contra',\n",
    "    'home_penalty_goal': 'gols_1_penalti', 'away_penalty_goal': 'gols_2_penalti',\n",
    "    'home_red_card': 'cartao_vermelho_1', 'away_red_card': 'cartao_vermelho_2',\n",
    "    'home_yellow_card_long': 'cartao_amarelo_1', 'away_yellow_card_long': 'cartao_amarelo_2'\n",
    "}\n",
    "\n",
    "# Selecionar e renomear colunas\n",
    "wc = wc.loc[:, nomes_traduzidos.keys()]\n",
    "wc.columns = nomes_traduzidos.values()\n",
    "\n",
    "# Criar coluna 'copa' com tipo string\n",
    "wc['copa'] = wc['ano'].apply(lambda x: 'Masculina' if x % 2 == 0 else 'Feminina').astype('string')\n",
    "\n",
    "# Converter colunas para os tipos corretos\n",
    "wc['time_1'] = wc['time_1'].astype('string')\n",
    "wc['time_2'] = wc['time_2'].astype('string')\n",
    "wc['gols_1'] = wc['gols_1'].astype('int')\n",
    "wc['gols_2'] = wc['gols_2'].astype('int')\n",
    "wc['data'] = pd.to_datetime(wc['data'], errors='coerce')  # converter datas\n",
    "wc['ano'] = wc['ano'].astype('int')\n",
    "wc['país_sede'] = wc['país_sede'].astype('string')\n",
    "wc['comparecimento'] = wc['comparecimento'].fillna(0).astype('int')  # pode ter ausentes\n",
    "wc['resultado'] = wc['resultado'].astype('string')\n",
    "wc['rodada'] = wc['rodada'].astype('category')\n",
    "\n",
    "# As demais (detalhes, cartões, penalidades...) para string\n",
    "colunas_string = [\n",
    "    'gols_1_detalhes', 'gols_2_detalhes',\n",
    "    'gols_1_contra', 'gols_2_contra',\n",
    "    'gols_1_penalti', 'gols_2_penalti',\n",
    "    'cartao_vermelho_1', 'cartao_vermelho_2',\n",
    "    'cartao_amarelo_1', 'cartao_amarelo_2'\n",
    "]\n",
    "for coluna in colunas_string:\n",
    "    wc[coluna] = wc[coluna].astype('string')\n",
    "\n",
    "# Salvar o DataFrame formatado\n",
    "wc.to_csv('wc_formatado.csv', index=False)\n",
    "\n",
    "# Visualizar a estrutura\n",
    "wc.info()"
   ]
  },
  {
   "cell_type": "markdown",
   "metadata": {},
   "source": [
    "#### Q2.\n",
    "Apresente a linha do dataframe `wc` que corresponde ao jogo com maior audiência da história."
   ]
  },
  {
   "cell_type": "code",
   "execution_count": 7,
   "metadata": {},
   "outputs": [
    {
     "data": {
      "text/plain": [
       "time_1                           Uruguay\n",
       "time_2                            Brazil\n",
       "gols_1                                 2\n",
       "gols_2                                 1\n",
       "data                 1950-07-16 00:00:00\n",
       "                            ...         \n",
       "cartao_vermelho_1                   <NA>\n",
       "cartao_vermelho_2                   <NA>\n",
       "cartao_amarelo_1                    <NA>\n",
       "cartao_amarelo_2                    <NA>\n",
       "copa                           Masculina\n",
       "Name: 1238, Length: 21, dtype: object"
      ]
     },
     "metadata": {},
     "output_type": "display_data"
    }
   ],
   "source": [
    "jogo_maior_audiencia = wc.loc[wc['comparecimento'].idxmax()]\n",
    "display(jogo_maior_audiencia)"
   ]
  },
  {
   "cell_type": "markdown",
   "metadata": {},
   "source": [
    "#### Q3.\n",
    "Aplicando operações sobre as colunas `ano` e `copa` do dataframe `wc`, apresente quantas copas femininas e quantas copas masculinas já aconteceram na história.\n",
    "\n",
    "Exemplo de saída (valores inventados):\n",
    "```\n",
    "Masculina: 22\n",
    "Feminina: 9\n",
    "```"
   ]
  },
  {
   "cell_type": "code",
   "execution_count": 8,
   "metadata": {},
   "outputs": [
    {
     "name": "stdout",
     "output_type": "stream",
     "text": [
      "Masculina: 22\n",
      "Feminina: 9\n"
     ]
    }
   ],
   "source": [
    "# Seleciona só os anos e tipo da copa, eliminando duplicatas\n",
    "copas_unicas = wc[['ano', 'copa']].drop_duplicates()\n",
    "\n",
    "# Conta quantos anos únicos para cada tipo\n",
    "contagem = copas_unicas['copa'].value_counts()\n",
    "\n",
    "print(f\"Masculina: {contagem.get('Masculina', 0)}\")\n",
    "print(f\"Feminina: {contagem.get('Feminina', 0)}\")"
   ]
  },
  {
   "cell_type": "markdown",
   "metadata": {},
   "source": [
    "#### Q3. \n",
    "Crie um dataframe `participacao` com as colunas `país`, `copa`, e `num_copas` que armazena a quantidade de copas do mundo que cada país participou, informando se é da copa masculina ou feminina. Ao final imprima, como apresentado a seguir, o top 5 países de cada competição que mais participou de copas do mundo.\n",
    "\n",
    "Exemplo de saída (valores inventados):\n",
    "```\n",
    "país            copa        num_copas\n",
    "Brazil          Feminina    8\n",
    "Unites States   Feminina    8\n",
    "Germany         Feminina    8\n",
    "Japan           Feminina    7\n",
    "Colombia        Feminina    7\n",
    "```\n",
    "\n",
    "```\n",
    "país            copa        num_copas\n",
    "Brazil          Masculina   21\n",
    "Germany         Masculina   21\n",
    "Argentina       Masculina   20\n",
    "England         Masculina   20\n",
    "Mexico          Masculina   20\n",
    "```"
   ]
  },
  {
   "cell_type": "code",
   "execution_count": 9,
   "metadata": {},
   "outputs": [
    {
     "name": "stdout",
     "output_type": "stream",
     "text": [
      "Top 5 países Feminina:\n",
      "       país      copa  num_copas\n",
      "10   Brazil  Feminina          9\n",
      "81   Norway  Feminina          9\n",
      "63    Japan  Feminina          9\n",
      "45  Germany  Feminina          9\n",
      "78  Nigeria  Feminina          9\n",
      "\n",
      "Top 5 países Masculina:\n",
      "         país       copa  num_copas\n",
      "11     Brazil  Masculina         22\n",
      "3   Argentina  Masculina         18\n",
      "60      Italy  Masculina         18\n",
      "71     Mexico  Masculina         17\n",
      "40    England  Masculina         16\n"
     ]
    }
   ],
   "source": [
    "import pandas as pd\n",
    "\n",
    "# Criar dataframe de participações unindo time_1 e time_2, mantendo ano e copa\n",
    "df_time1 = wc[['time_1', 'ano', 'copa']].rename(columns={'time_1': 'país'})\n",
    "df_time2 = wc[['time_2', 'ano', 'copa']].rename(columns={'time_2': 'país'})\n",
    "\n",
    "# Juntar as participações de time_1 e time_2\n",
    "df_participacoes = pd.concat([df_time1, df_time2], ignore_index=True)\n",
    "\n",
    "# Remover duplicatas: um país só conta uma vez por ano e copa\n",
    "df_participacoes = df_participacoes.drop_duplicates(subset=['país', 'ano', 'copa'])\n",
    "\n",
    "# Contar quantas copas cada país participou por copa\n",
    "participacao = df_participacoes.groupby(['país', 'copa']).agg(num_copas=('ano', 'nunique')).reset_index()\n",
    "\n",
    "# Mostrar top 5 países de cada copa, ordenando pelo número de copas (decrescente)\n",
    "print(\"Top 5 países Feminina:\")\n",
    "print(participacao[participacao['copa'] == 'Feminina'].sort_values(by='num_copas', ascending=False).head(5))\n",
    "\n",
    "print(\"\\nTop 5 países Masculina:\")\n",
    "print(participacao[participacao['copa'] == 'Masculina'].sort_values(by='num_copas', ascending=False).head(5))"
   ]
  },
  {
   "cell_type": "markdown",
   "metadata": {},
   "source": [
    "#### Q4. \n",
    "* Crie um dataframe `gols` com duas colunas `país` e `total_gols` com o total de gols marcados por cada país durante todas as copas do mundo, juntando gols em casa (`gols_1`) e gols como time visitante (`gols_2`).\n",
    "* Imprima o dataframe `gols` ordenado de forma decrescente, para que os times com mais gols fiquem no topo.\n",
    "\n",
    "Segue um exemplo ilustrativo com o formato do dataframe resultado:\n",
    "\n",
    "```\n",
    "país        total_gols\n",
    "Brazil      120\n",
    "Argentina   112\n",
    "Germany     107\n",
    "...\n",
    "```"
   ]
  },
  {
   "cell_type": "code",
   "execution_count": 10,
   "metadata": {},
   "outputs": [
    {
     "name": "stdout",
     "output_type": "stream",
     "text": [
      "                   país  total_gols\n",
      "0                Brazil       308.0\n",
      "1               Germany       254.0\n",
      "2         United States       182.0\n",
      "3                France       180.0\n",
      "4                Sweden       165.0\n",
      "..                  ...         ...\n",
      "87                Qatar         1.0\n",
      "88    Dutch East Indies         0.0\n",
      "89  Trinidad and Tobago         0.0\n",
      "90              Vietnam         0.0\n",
      "91                Zaire         0.0\n",
      "\n",
      "[92 rows x 2 columns]\n"
     ]
    }
   ],
   "source": [
    "# Somar gols marcados em casa (time_1)\n",
    "gols_casa = wc.groupby('time_1')['gols_1'].sum().reset_index()\n",
    "gols_casa.columns = ['país', 'gols_casa']\n",
    "\n",
    "# Somar gols marcados fora (time_2)\n",
    "gols_fora = wc.groupby('time_2')['gols_2'].sum().reset_index()\n",
    "gols_fora.columns = ['país', 'gols_fora']\n",
    "\n",
    "# Juntar as duas tabelas pelo país\n",
    "gols = pd.merge(gols_casa, gols_fora, on='país', how='outer').fillna(0)\n",
    "\n",
    "# Calcular o total de gols\n",
    "gols['total_gols'] = gols['gols_casa'] + gols['gols_fora']\n",
    "\n",
    "# Selecionar colunas finais e ordenar decrescente pelo total de gols\n",
    "gols = gols[['país', 'total_gols']].sort_values(by='total_gols', ascending=False).reset_index(drop=True)\n",
    "\n",
    "# Mostrar resultado\n",
    "print(gols)"
   ]
  },
  {
   "cell_type": "markdown",
   "metadata": {},
   "source": [
    "#### Q5. \n",
    "Qual país tomou mais cartões amarelos somando todas as copas?\n",
    "\n",
    "Neste exercício você vai trabalhar com as colunas `cartao_amarelo_1` e `cartao_amarelo_2` onde cada observação é uma string represetando uma lista dos cartões amarelos de um único jogo na forma `minuto|placar|jogador(a)`. Por exemplo:\n",
    "```\n",
    "['16’|1:0|Rosana Gómez', '20’|2:0|Gabriela Chávez]\n",
    "```\n",
    "\n",
    "Recomendo criar colunas `num_cartoes_1` e `num_cartoes_2` a partir de cada coluna `cartao_amarelo_X` usando o método genérico `apply` para chamar uma função que você vai criar para transformar uma observação de cartão amarelo em uma contagem de elementos da lista. \n",
    "\n",
    "Lembre de levar em consideração que muitas observações são `NaN`. \n",
    "\n",
    "Em seguida faça sua mágica para agrupar as informações por país, acumular os cartões de jogos em casa e jogos visitante, e produzir o resultado final como apresentado a seguir (valores inventados):\n",
    "\n",
    "```\n",
    "país        cartões amarelos\n",
    "Argentina   97\n",
    "England     93\n",
    "Australia   93\n",
    "...\n",
    "```"
   ]
  },
  {
   "cell_type": "code",
   "execution_count": 11,
   "metadata": {},
   "outputs": [
    {
     "name": "stdout",
     "output_type": "stream",
     "text": [
      "                 país  cartoes_amarelos\n",
      "0              Brazil             168.0\n",
      "1           Argentina             162.0\n",
      "2             Germany             124.0\n",
      "3         Netherlands             117.0\n",
      "4               Italy             108.0\n",
      "..                ...               ...\n",
      "87            Vietnam               2.0\n",
      "88              Zaire               2.0\n",
      "89     Chinese Taipei               1.0\n",
      "90  Dutch East Indies               0.0\n",
      "91               Cuba               0.0\n",
      "\n",
      "[92 rows x 2 columns]\n"
     ]
    }
   ],
   "source": [
    "import ast\n",
    "import pandas as pd\n",
    "import numpy as np\n",
    "\n",
    "# Função para contar cartões amarelos na string (lista em formato texto)\n",
    "def conta_cartoes(cartoes_str):\n",
    "    if pd.isna(cartoes_str):\n",
    "        return 0\n",
    "    try:\n",
    "        # Converter string que parece lista para lista de verdade\n",
    "        lista_cartoes = ast.literal_eval(cartoes_str)\n",
    "        return len(lista_cartoes)\n",
    "    except (ValueError, SyntaxError):\n",
    "        return 0\n",
    "\n",
    "# Aplicar nas duas colunas\n",
    "wc['num_cartoes_1'] = wc['cartao_amarelo_1'].apply(conta_cartoes)\n",
    "wc['num_cartoes_2'] = wc['cartao_amarelo_2'].apply(conta_cartoes)\n",
    "\n",
    "# Somar cartões amarelos por país - casa\n",
    "cartoes_casa = wc.groupby('time_1')['num_cartoes_1'].sum().reset_index()\n",
    "cartoes_casa.columns = ['país', 'cartoes_casa']\n",
    "\n",
    "# Somar cartões amarelos por país - visitante\n",
    "cartoes_fora = wc.groupby('time_2')['num_cartoes_2'].sum().reset_index()\n",
    "cartoes_fora.columns = ['país', 'cartoes_fora']\n",
    "\n",
    "# Juntar os dois e somar\n",
    "cartoes = pd.merge(cartoes_casa, cartoes_fora, on='país', how='outer').fillna(0)\n",
    "cartoes['cartoes_amarelos'] = cartoes['cartoes_casa'] + cartoes['cartoes_fora']\n",
    "\n",
    "# Selecionar e ordenar\n",
    "cartoes = cartoes[['país', 'cartoes_amarelos']].sort_values(by='cartoes_amarelos', ascending=False).reset_index(drop=True)\n",
    "\n",
    "print(cartoes)"
   ]
  },
  {
   "cell_type": "markdown",
   "metadata": {},
   "source": [
    "#### Q6.\n",
    "Qual o top10 jogadores com mais gols em copa? Considere gols em jogo e gols de pênalti.\n",
    "\n",
    "Para conseguir essa informação, você precisará trabalhar com as colunas:\n",
    "```\n",
    "10  gols_1_detalhes         \n",
    "11  gols_2_detalhes    \n",
    "14  gols_1_penalti     \n",
    "15  gols_2_penalti     \n",
    "```\n",
    "\n",
    "Essas também são colunas textuais, onde cada observações apresenta todos os gols de uma partida separados pelo caracter `|`. Cada gol está na forma `'Jogador(a) · minuto’'`. Por exemplo:\n",
    "```\n",
    "'Alex Morgan · 12’|Rose Lavelle · 20’'\n",
    "```\n",
    "\n",
    "Lembre de levar em consideração que muitas observações são `NaN`. \n",
    "\n",
    "Recomendo criar um dicionário à parte, onde cada chave será um jogador encontrado nessas colunas do dataframe `wc` e o valor correspondente será a contagem de ocorrências desses nomes.\n",
    "\n",
    "Em seguida basta converter o seu dicionário em um dataframe e imprimí-lo na forma (valores não são inventados 😁):\n",
    "```\n",
    "jogador(a)      num_gols \n",
    "Marta           17\n",
    "Miroslav Klose  16\n",
    "... \n",
    "```"
   ]
  },
  {
   "cell_type": "code",
   "execution_count": 12,
   "metadata": {},
   "outputs": [
    {
     "name": "stdout",
     "output_type": "stream",
     "text": [
      "         jogador(a)  num_gols\n",
      "0    Miroslav Klose        16\n",
      "1           Ronaldo        14\n",
      "2      Birgit Prinz        14\n",
      "3     Just Fontaine        13\n",
      "4       Gerd Müller        13\n",
      "5              Pelé        12\n",
      "6      Abby Wambach        12\n",
      "7     Sándor Kocsis        11\n",
      "8  Jürgen Klinsmann        11\n",
      "9       Helmut Rahn        10\n"
     ]
    }
   ],
   "source": [
    "import pandas as pd\n",
    "from collections import Counter\n",
    "\n",
    "# Função para extrair jogadores de uma célula textual (lista de gols)\n",
    "def extrai_jogadores(texto):\n",
    "    if pd.isna(texto):\n",
    "        return []\n",
    "    gols = texto.split('|')\n",
    "    jogadores = []\n",
    "    for gol in gols:\n",
    "        # separar pelo '·', pegar o nome (antes do '·'), removendo espaços\n",
    "        nome = gol.split('·')[0].strip()\n",
    "        if nome:\n",
    "            jogadores.append(nome)\n",
    "    return jogadores\n",
    "\n",
    "# Inicializa contador geral\n",
    "contador_gols = Counter()\n",
    "\n",
    "# Colunas a processar\n",
    "colunas_gols = ['gols_1_detalhes', 'gols_2_detalhes', 'gols_1_penalti', 'gols_2_penalti']\n",
    "\n",
    "for col in colunas_gols:\n",
    "    wc[col] = wc[col].astype('string')  # garantir string para evitar erro\n",
    "    for celula in wc[col]:\n",
    "        jogadores = extrai_jogadores(celula)\n",
    "        contador_gols.update(jogadores)\n",
    "\n",
    "# Criar dataframe com o resultado\n",
    "df_gols = pd.DataFrame(contador_gols.items(), columns=['jogador(a)', 'num_gols'])\n",
    "\n",
    "# Ordenar decrescente e pegar top 10\n",
    "top10 = df_gols.sort_values(by='num_gols', ascending=False).head(10).reset_index(drop=True)\n",
    "\n",
    "print(top10)"
   ]
  }
 ],
 "metadata": {
  "kernelspec": {
   "display_name": "Python 3 (ipykernel)",
   "language": "python",
   "name": "python3"
  },
  "language_info": {
   "codemirror_mode": {
    "name": "ipython",
    "version": 3
   },
   "file_extension": ".py",
   "mimetype": "text/x-python",
   "name": "python",
   "nbconvert_exporter": "python",
   "pygments_lexer": "ipython3",
   "version": "3.13.5"
  }
 },
 "nbformat": 4,
 "nbformat_minor": 4
}
