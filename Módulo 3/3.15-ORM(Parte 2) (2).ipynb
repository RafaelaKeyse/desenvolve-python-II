{
 "cells": [
  {
   "cell_type": "markdown",
   "metadata": {},
   "source": [
    "## Exercícios\n",
    "\n",
    "> Retirados de [learn-python: sqlalchemy_orm-questions](https://aviadr1.github.io/learn-advanced-python/11_db_access/exercise/sqlalchemy_orm-questions.html).\n",
    "\n",
    "#### Q1.\n",
    "\n",
    "Baixa e extraia o arquivo compactado com o banco de dados [Chinook database](https://www.sqlitetutorial.net/sqlite-sample-database/). Salve o arquivo `chinook.db` na mesma pasta deste script.\n",
    "* Link para baixar: http://www.sqlitetutorial.net/wp-content/uploads/2018/03/chinook.zip\n",
    "\n",
    "<img width=500 src=https://www.sqlitetutorial.net/wp-content/uploads/2015/11/sqlite-sample-database-color.jpg>\n"
   ]
  },
  {
   "cell_type": "markdown",
   "metadata": {},
   "source": [
    "#### Q2.\n",
    "\n",
    "Leia o código e os comentários das células a seguir para entender como acessamos os modelos ORM de um banco já existente."
   ]
  },
  {
   "cell_type": "code",
   "execution_count": null,
   "metadata": {
    "vscode": {
     "languageId": "plaintext"
    }
   },
   "outputs": [],
   "source": [
    "from sqlalchemy import create_engine, text, MetaData\n",
    "from sqlalchemy.orm import Session\n",
    "\n",
    "engine = create_engine(\"sqlite+pysqlite:///chinook.db\", echo=False)\n",
    "\n",
    "### extrai as classes da base de dados Chinook\n",
    "metadata = MetaData()\n",
    "metadata.reflect(engine)\n",
    "\n",
    "# O metadata tem informações sobre as tabelas\n",
    "# que serão usadas para criar os modelos ORM\n",
    "for table_name, table in metadata.tables.items():\n",
    "    print(table_name)\n",
    "    print(table.columns.keys())\n",
    "    print(table.columns.items())\n",
    "    print('-'*25)\n",
    "\n",
    "### configura o objeto Base mapeando os modelos ORM das tabelas\n",
    "from sqlalchemy.ext.automap import automap_base\n",
    "Base = automap_base(metadata=metadata)\n",
    "Base.prepare()\n",
    "\n",
    "# o objeto Base tem os modelos ORM que podemos usar\n",
    "# para manipular o banco de dados\n",
    "print(Base.classes.items())"
   ]
  },
  {
   "cell_type": "code",
   "execution_count": null,
   "metadata": {
    "vscode": {
     "languageId": "plaintext"
    }
   },
   "outputs": [],
   "source": [
    "# A seguir um exemplo de query na tabela Albums\n",
    "# usamos o objeto Base para acessar cada modelo ORM.\n",
    "\n",
    "session = Session(engine)\n",
    "res = session.scalars(select(Base.classes.albums))\n",
    "first_album = res.first()\n",
    "print(first_album.AlbumId, first_album.Title)"
   ]
  },
  {
   "cell_type": "markdown",
   "metadata": {},
   "source": [
    "#### Q3. \n",
    "Com base nos códigos anteriores realize as operações solicitadas nas células a seguir:\n"
   ]
  },
  {
   "cell_type": "code",
   "execution_count": 3,
   "metadata": {
    "vscode": {
     "languageId": "plaintext"
    }
   },
   "outputs": [
    {
     "name": "stdout",
     "output_type": "stream",
     "text": [
      "Tabelas mapeadas: ['media_types', 'employees', 'tracks', 'albums', 'artists', 'invoices', 'customers', 'invoice_items', 'genres', 'playlists']\n",
      "TrackId: 1, Name: For Those About To Rock (We Salute You), AlbumId: 1\n",
      "TrackId: 2, Name: Balls to the Wall, AlbumId: 2\n",
      "TrackId: 3, Name: Fast As a Shark, AlbumId: 3\n"
     ]
    }
   ],
   "source": [
    "### Imprima os três primeiros registros da tabela tracks\n",
    "from sqlalchemy import create_engine, select\n",
    "from sqlalchemy.orm import Session\n",
    "from sqlalchemy.ext.automap import automap_base\n",
    "from sqlalchemy import MetaData\n",
    "\n",
    "# Conecte ao banco\n",
    "engine = create_engine(\"sqlite:///C:/Users/PDBD217/chinook.db\", echo=False)\n",
    "\n",
    "# Reflita o banco para o MetaData\n",
    "metadata = MetaData()\n",
    "metadata.reflect(engine)\n",
    "\n",
    "# Prepare a base automap para ORM\n",
    "Base = automap_base(metadata=metadata)\n",
    "Base.prepare()\n",
    "\n",
    "# Verifique as classes mapeadas\n",
    "print(\"Tabelas mapeadas:\", Base.classes.keys())\n",
    "\n",
    "# Crie uma sessão\n",
    "session = Session(engine)\n",
    "\n",
    "# Pegue a classe ORM da tabela tracks\n",
    "Track = Base.classes.tracks\n",
    "\n",
    "# Query para pegar os 3 primeiros registros\n",
    "stmt = select(Track).limit(3)\n",
    "\n",
    "results = session.execute(stmt).scalars().all()\n",
    "\n",
    "for track in results:\n",
    "    print(f\"TrackId: {track.TrackId}, Name: {track.Name}, AlbumId: {track.AlbumId}\")\n",
    "\n",
    "session.close()"
   ]
  },
  {
   "cell_type": "code",
   "execution_count": 4,
   "metadata": {
    "vscode": {
     "languageId": "plaintext"
    }
   },
   "outputs": [
    {
     "name": "stdout",
     "output_type": "stream",
     "text": [
      "Faixa: For Those About To Rock (We Salute You) - Álbum: For Those About To Rock We Salute You\n",
      "Faixa: Put The Finger On You - Álbum: For Those About To Rock We Salute You\n",
      "Faixa: Let's Get It Up - Álbum: For Those About To Rock We Salute You\n",
      "Faixa: Inject The Venom - Álbum: For Those About To Rock We Salute You\n",
      "Faixa: Snowballed - Álbum: For Those About To Rock We Salute You\n",
      "Faixa: Evil Walks - Álbum: For Those About To Rock We Salute You\n",
      "Faixa: C.O.D. - Álbum: For Those About To Rock We Salute You\n",
      "Faixa: Breaking The Rules - Álbum: For Those About To Rock We Salute You\n",
      "Faixa: Night Of The Long Knives - Álbum: For Those About To Rock We Salute You\n",
      "Faixa: Spellbound - Álbum: For Those About To Rock We Salute You\n",
      "Faixa: Balls to the Wall - Álbum: Balls to the Wall\n",
      "Faixa: Fast As a Shark - Álbum: Restless and Wild\n",
      "Faixa: Restless and Wild - Álbum: Restless and Wild\n",
      "Faixa: Princess of the Dawn - Álbum: Restless and Wild\n",
      "Faixa: Go Down - Álbum: Let There Be Rock\n",
      "Faixa: Dog Eat Dog - Álbum: Let There Be Rock\n",
      "Faixa: Let There Be Rock - Álbum: Let There Be Rock\n",
      "Faixa: Bad Boy Boogie - Álbum: Let There Be Rock\n",
      "Faixa: Problem Child - Álbum: Let There Be Rock\n",
      "Faixa: Overdose - Álbum: Let There Be Rock\n"
     ]
    }
   ],
   "source": [
    "### Imprima o nome da faixa e o título do álbum das primeiras 20 faixas na tabela tracks.\n",
    "from sqlalchemy.orm import Session\n",
    "from sqlalchemy import select\n",
    "\n",
    "# Criar sessão\n",
    "session = Session(engine)\n",
    "\n",
    "# Acessar as classes ORM\n",
    "Track = Base.classes.tracks\n",
    "Album = Base.classes.albums\n",
    "\n",
    "# Construir query com join entre tracks e albums, limitando a 20 resultados\n",
    "stmt = (\n",
    "    select(Track.Name, Album.Title)\n",
    "    .join(Album, Track.AlbumId == Album.AlbumId)\n",
    "    .limit(20)\n",
    ")\n",
    "\n",
    "# Executar e imprimir resultados\n",
    "results = session.execute(stmt).all()\n",
    "for track_name, album_title in results:\n",
    "    print(f\"Faixa: {track_name} - Álbum: {album_title}\")"
   ]
  },
  {
   "cell_type": "code",
   "execution_count": 5,
   "metadata": {
    "vscode": {
     "languageId": "plaintext"
    }
   },
   "outputs": [
    {
     "name": "stdout",
     "output_type": "stream",
     "text": [
      "Faixa: Balls to the Wall - Quantidade vendida: 1\n",
      "Faixa: Restless and Wild - Quantidade vendida: 1\n",
      "Faixa: Put The Finger On You - Quantidade vendida: 1\n",
      "Faixa: Inject The Venom - Quantidade vendida: 1\n",
      "Faixa: Evil Walks - Quantidade vendida: 1\n",
      "Faixa: Breaking The Rules - Quantidade vendida: 1\n",
      "Faixa: Dog Eat Dog - Quantidade vendida: 1\n",
      "Faixa: Overdose - Quantidade vendida: 1\n",
      "Faixa: Love In An Elevator - Quantidade vendida: 1\n",
      "Faixa: Janie's Got A Gun - Quantidade vendida: 1\n"
     ]
    }
   ],
   "source": [
    "### Imprima as 10 primeiras vendas de faixas da tabela invoice_items\n",
    "### Para essas 10 primeiras vendas, imprima os nomes das faixas vendidas e a quantidade vendida.\n",
    "from sqlalchemy.orm import Session\n",
    "from sqlalchemy import select\n",
    "\n",
    "# Criar sessão\n",
    "session = Session(engine)\n",
    "\n",
    "# Acessar as classes ORM\n",
    "InvoiceItem = Base.classes.invoice_items\n",
    "Track = Base.classes.tracks\n",
    "\n",
    "# Montar query com join para pegar os nomes das faixas e quantidade vendida, limitando a 10\n",
    "stmt = (\n",
    "    select(Track.Name, InvoiceItem.Quantity)\n",
    "    .join(Track, InvoiceItem.TrackId == Track.TrackId)\n",
    "    .limit(10)\n",
    ")\n",
    "\n",
    "# Executar e mostrar resultados\n",
    "results = session.execute(stmt).all()\n",
    "for track_name, quantity in results:\n",
    "    print(f\"Faixa: {track_name} - Quantidade vendida: {quantity}\")"
   ]
  },
  {
   "cell_type": "code",
   "execution_count": 6,
   "metadata": {
    "vscode": {
     "languageId": "plaintext"
    }
   },
   "outputs": [
    {
     "name": "stdout",
     "output_type": "stream",
     "text": [
      "Faixa: Balls to the Wall - Total vendido: 2\n",
      "Faixa: Inject The Venom - Total vendido: 2\n",
      "Faixa: Snowballed - Total vendido: 2\n",
      "Faixa: Overdose - Total vendido: 2\n",
      "Faixa: Deuces Are Wild - Total vendido: 2\n",
      "Faixa: Not The Doctor - Total vendido: 2\n",
      "Faixa: Por Causa De Você - Total vendido: 2\n",
      "Faixa: Welcome Home (Sanitarium) - Total vendido: 2\n",
      "Faixa: Snowblind - Total vendido: 2\n",
      "Faixa: Cornucopia - Total vendido: 2\n"
     ]
    }
   ],
   "source": [
    "### Imprima os nomes das 10 faixas mais vendidas e quantas vezes foram vendidas.\n",
    "from sqlalchemy.orm import Session\n",
    "from sqlalchemy import select, func, desc\n",
    "\n",
    "session = Session(engine)\n",
    "\n",
    "InvoiceItem = Base.classes.invoice_items\n",
    "Track = Base.classes.tracks\n",
    "\n",
    "stmt = (\n",
    "    select(\n",
    "        Track.Name,\n",
    "        func.sum(InvoiceItem.Quantity).label(\"total_vendido\")\n",
    "    )\n",
    "    .join(Track, InvoiceItem.TrackId == Track.TrackId)\n",
    "    .group_by(Track.TrackId)\n",
    "    .order_by(desc(\"total_vendido\"))\n",
    "    .limit(10)\n",
    ")\n",
    "\n",
    "results = session.execute(stmt).all()\n",
    "\n",
    "for nome_faixa, total in results:\n",
    "    print(f\"Faixa: {nome_faixa} - Total vendido: {total}\")"
   ]
  },
  {
   "cell_type": "code",
   "execution_count": 7,
   "metadata": {
    "vscode": {
     "languageId": "plaintext"
    }
   },
   "outputs": [
    {
     "name": "stdout",
     "output_type": "stream",
     "text": [
      "Artista: Iron Maiden - Total vendido: 140\n",
      "Artista: U2 - Total vendido: 107\n",
      "Artista: Metallica - Total vendido: 91\n",
      "Artista: Led Zeppelin - Total vendido: 87\n",
      "Artista: Os Paralamas Do Sucesso - Total vendido: 45\n",
      "Artista: Deep Purple - Total vendido: 44\n",
      "Artista: Faith No More - Total vendido: 42\n",
      "Artista: Lost - Total vendido: 41\n",
      "Artista: Eric Clapton - Total vendido: 40\n",
      "Artista: R.E.M. - Total vendido: 39\n"
     ]
    }
   ],
   "source": [
    "### Quem são os 10 artistas que mais venderam?\n",
    "### dica: você precisa juntar as tabelas invoice_items, tracks, albums e artists\n",
    "from sqlalchemy import select, func, desc\n",
    "from sqlalchemy.orm import Session\n",
    "\n",
    "# Iniciar sessão\n",
    "session = Session(engine)\n",
    "\n",
    "# Mapear tabelas\n",
    "InvoiceItem = Base.classes.invoice_items\n",
    "Track = Base.classes.tracks\n",
    "Album = Base.classes.albums\n",
    "Artist = Base.classes.artists\n",
    "\n",
    "# Montar a consulta\n",
    "stmt = (\n",
    "    select(\n",
    "        Artist.Name,\n",
    "        func.sum(InvoiceItem.Quantity).label(\"total_vendido\")\n",
    "    )\n",
    "    .join(Track, InvoiceItem.TrackId == Track.TrackId)\n",
    "    .join(Album, Track.AlbumId == Album.AlbumId)\n",
    "    .join(Artist, Album.ArtistId == Artist.ArtistId)\n",
    "    .group_by(Artist.ArtistId)\n",
    "    .order_by(desc(\"total_vendido\"))\n",
    "    .limit(10)\n",
    ")\n",
    "\n",
    "# Executar e exibir resultados\n",
    "resultados = session.execute(stmt).all()\n",
    "\n",
    "# Imprimir\n",
    "for nome_artista, total in resultados:\n",
    "    print(f\"Artista: {nome_artista} - Total vendido: {total}\")"
   ]
  },
  {
   "cell_type": "code",
   "execution_count": null,
   "metadata": {},
   "outputs": [],
   "source": []
  }
 ],
 "metadata": {
  "kernelspec": {
   "display_name": "Python 3 (ipykernel)",
   "language": "python",
   "name": "python3"
  },
  "language_info": {
   "codemirror_mode": {
    "name": "ipython",
    "version": 3
   },
   "file_extension": ".py",
   "mimetype": "text/x-python",
   "name": "python",
   "nbconvert_exporter": "python",
   "pygments_lexer": "ipython3",
   "version": "3.13.5"
  }
 },
 "nbformat": 4,
 "nbformat_minor": 4
}
