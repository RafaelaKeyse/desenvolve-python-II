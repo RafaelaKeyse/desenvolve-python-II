{
 "cells": [
  {
   "cell_type": "markdown",
   "metadata": {},
   "source": [
    "> Projeto Desenvolve <br>\n",
    "Programação Intermediária com Python <br>\n",
    "Profa. Camila Laranjeira (mila@projetodesenvolve.com.br) <br>\n",
    "\n",
    "# 3.14 - ORM"
   ]
  },
  {
   "cell_type": "markdown",
   "metadata": {},
   "source": [
    "## Exercícios\n",
    "\n",
    "#### Q1. Conhecendo os dados\n",
    "Baixe o seguinte csv onde iremos trabalhar. Ele contém informações sobre salários de profissionais de dados de uma empresa hipotética entre 2009 e 2016\n",
    "* https://github.com/camilalaranjeira/python-intermediario/blob/main/salaries.csv\n",
    "\n",
    "Suas colunas, descritas na [página do Kaggle que contém o dataset](https://www.kaggle.com/datasets/krishujeniya/salary-prediction-of-data-professions?resource=download), são:\n",
    "* FIRST NAME: Primeiro nome do profissional de dados (String)\n",
    "* LAST NAME: Sobrenome do profissional de dados (String)\n",
    "* SEX: Gênero do profissional de dados (String: 'F' para Feminino, 'M' para Masculino)\n",
    "* DOJ (Date of Joining): A data em que o profissional de dados ingressou na empresa (Data no formato MM/DD/AAAA)\n",
    "* CURRENT DATE: A data atual ou a data de referência dos dados (Data no formato MM/DD/AAAA)\n",
    "* DESIGNATION: O cargo ou designação do profissional de dados (String: ex., Analista, Analista Sênior, Gerente)\n",
    "* AGE: Idade do profissional de dados (Integer)\n",
    "* SALARY: Salário anual do profissional de dados (Float)\n",
    "* UNIT: Unidade de negócios ou departamento em que o profissional de dados trabalha (String: ex., TI, Finanças, Marketing)\n",
    "* LEAVES USED: Número de licenças utilizadas pelo profissional de dados (Integer)\n",
    "* LEAVES REMAINING: Número de licenças restantes para o profissional de dados (Integer)\n",
    "* RATINGS: Avaliações de desempenho do profissional de dados (Float)\n",
    "* PAST EXP: Experiência de trabalho anterior em anos antes de ingressar na empresa atual (Float)\n",
    "\n",
    "Na célula a seguir, **carregue os dados do CSV e dê uma olhada neles antes de seguir**."
   ]
  },
  {
   "cell_type": "code",
   "execution_count": 1,
   "metadata": {
    "vscode": {
     "languageId": "plaintext"
    }
   },
   "outputs": [
    {
     "name": "stdout",
     "output_type": "stream",
     "text": [
      "  FIRST NAME   LAST NAME SEX         DOJ CURRENT DATE DESIGNATION   AGE  \\\n",
      "0     TOMASA       ARMEN   F   5-18-2014   01-07-2016     Analyst  21.0   \n",
      "1      ANNIE         NaN   F         NaN   01-07-2016   Associate   NaN   \n",
      "2      OLIVE        ANCY   F   7-28-2014   01-07-2016     Analyst  21.0   \n",
      "3     CHERRY     AQUILAR   F  04-03-2013   01-07-2016     Analyst  22.0   \n",
      "4       LEON  ABOULAHOUD   M  11-20-2014   01-07-2016     Analyst   NaN   \n",
      "\n",
      "   SALARY        UNIT  LEAVES USED  LEAVES REMAINING  RATINGS  PAST EXP  \n",
      "0   44570     Finance         24.0               6.0      2.0         0  \n",
      "1   89207         Web          NaN              13.0      NaN         7  \n",
      "2   40955     Finance         23.0               7.0      3.0         0  \n",
      "3   45550          IT         22.0               8.0      3.0         0  \n",
      "4   43161  Operations         27.0               3.0      NaN         3  \n",
      "<class 'pandas.core.frame.DataFrame'>\n",
      "RangeIndex: 2639 entries, 0 to 2638\n",
      "Data columns (total 13 columns):\n",
      " #   Column            Non-Null Count  Dtype  \n",
      "---  ------            --------------  -----  \n",
      " 0   FIRST NAME        2639 non-null   object \n",
      " 1   LAST NAME         2637 non-null   object \n",
      " 2   SEX               2639 non-null   object \n",
      " 3   DOJ               2638 non-null   object \n",
      " 4   CURRENT DATE      2639 non-null   object \n",
      " 5   DESIGNATION       2639 non-null   object \n",
      " 6   AGE               2636 non-null   float64\n",
      " 7   SALARY            2639 non-null   int64  \n",
      " 8   UNIT              2639 non-null   object \n",
      " 9   LEAVES USED       2636 non-null   float64\n",
      " 10  LEAVES REMAINING  2637 non-null   float64\n",
      " 11  RATINGS           2637 non-null   float64\n",
      " 12  PAST EXP          2639 non-null   int64  \n",
      "dtypes: float64(4), int64(2), object(7)\n",
      "memory usage: 268.2+ KB\n",
      "None\n"
     ]
    }
   ],
   "source": [
    "### Escreva sua resposta aqui\n",
    "import pandas as pd\n",
    "\n",
    "# URL direta para download do CSV raw no GitHub\n",
    "url = 'https://raw.githubusercontent.com/camilalaranjeira/python-intermediario/main/salaries.csv'\n",
    "\n",
    "# Carregar os dados\n",
    "df = pd.read_csv(url)\n",
    "\n",
    "# Mostrar as 5 primeiras linhas para conhecer o dataset\n",
    "print(df.head())\n",
    "\n",
    "# Mostrar informações gerais (colunas, tipos e não nulos)\n",
    "print(df.info())"
   ]
  },
  {
   "cell_type": "markdown",
   "metadata": {},
   "source": [
    "#### Q2. Modelando os dados\n",
    "Você deve **criar um ORM com SQLAlchemy capaz de comportar os dados dessa base**.\n",
    "\n",
    "* Crie um campo de chave primária `ID`, que deve ser incrementado automaticamente\n",
    "* Os campos SEX, DESIGNATION e UNIT devem ser definidos como classes `Enum` com os possíveis valores (consulte os valores únicos dessas colunas)\n",
    "* Para os outros campos, consulte os tipos de dados informados na descrição acima"
   ]
  },
  {
   "cell_type": "code",
   "execution_count": 7,
   "metadata": {
    "vscode": {
     "languageId": "plaintext"
    }
   },
   "outputs": [],
   "source": [
    "### Escreva sua resposta aqui\n",
    "import enum\n",
    "from sqlalchemy import Column, Integer, String, Float, Date, Enum\n",
    "from sqlalchemy.orm import declarative_base\n",
    "\n",
    "Base = declarative_base()\n",
    "\n",
    "# Enum para Sexo\n",
    "class SexEnum(enum.Enum):\n",
    "    F = \"F\"\n",
    "    M = \"M\"\n",
    "\n",
    "# Enum para Designation (cargo)\n",
    "class DesignationEnum(enum.Enum):\n",
    "    Analista = \"Analista\"\n",
    "    Analista_Senior = \"Analista Sênior\"\n",
    "    Gerente = \"Gerente\"\n",
    "\n",
    "# Enum para Unidade (UNIT)\n",
    "class UnitEnum(enum.Enum):\n",
    "    TI = \"TI\"\n",
    "    Financas = \"Finanças\"\n",
    "    Marketing = \"Marketing\"\n",
    "\n",
    "class ProfissionalDados(Base):\n",
    "    __tablename__ = 'profissionais_dados'\n",
    "\n",
    "    id = Column(Integer, primary_key=True, autoincrement=True)\n",
    "    first_name = Column(String)\n",
    "    last_name = Column(String)\n",
    "    sex = Column(Enum(SexEnum))\n",
    "    doj = Column(Date)  # Data de ingresso\n",
    "    current_date = Column(Date)  # Data atual/referência\n",
    "    designation = Column(Enum(DesignationEnum))\n",
    "    age = Column(Integer)\n",
    "    salary = Column(Float)\n",
    "    unit = Column(Enum(UnitEnum))\n",
    "    leaves_used = Column(Integer)\n",
    "    leaves_remaining = Column(Integer)\n",
    "    ratings = Column(Float)\n",
    "    past_exp = Column(Float)\n",
    "\n",
    "    def __repr__(self):\n",
    "        return f\"<ProfissionalDados(id={self.id}, nome={self.first_name} {self.last_name}, cargo={self.designation.value})>\""
   ]
  },
  {
   "cell_type": "markdown",
   "metadata": {
    "vscode": {
     "languageId": "plaintext"
    }
   },
   "source": [
    "#### Q3. Estabelecendo uma conexão\n",
    "\n",
    "Usando o método `create_engine` do SQLAlchemy, crie uma conexão com um novo banco de dados SQLite chamado `salarios`."
   ]
  },
  {
   "cell_type": "code",
   "execution_count": 8,
   "metadata": {
    "vscode": {
     "languageId": "plaintext"
    }
   },
   "outputs": [
    {
     "name": "stdout",
     "output_type": "stream",
     "text": [
      "Conexão com o banco SQLite 'salarios.db' criada com sucesso.\n"
     ]
    }
   ],
   "source": [
    "### Escreva sua resposta aqui\n",
    "from sqlalchemy import create_engine\n",
    "\n",
    "# Criar engine para banco SQLite chamado salarios.db (arquivo local)\n",
    "engine = create_engine('sqlite:///salarios.db')\n",
    "\n",
    "# Teste: tentar conectar (vai criar o arquivo se não existir)\n",
    "connection = engine.connect()\n",
    "print(\"Conexão com o banco SQLite 'salarios.db' criada com sucesso.\")\n",
    "\n",
    "# Fechar conexão\n",
    "connection.close()"
   ]
  },
  {
   "cell_type": "markdown",
   "metadata": {},
   "source": [
    "#### Q4. Criando as tabelas\n",
    "Crie as tabelas da questão Q2 no banco `salarios`."
   ]
  },
  {
   "cell_type": "code",
   "execution_count": 9,
   "metadata": {
    "vscode": {
     "languageId": "plaintext"
    }
   },
   "outputs": [
    {
     "name": "stdout",
     "output_type": "stream",
     "text": [
      "Tabelas criadas com sucesso no banco salarios.db\n"
     ]
    }
   ],
   "source": [
    "### Escreva sua resposta aqui\n",
    "from sqlalchemy import create_engine\n",
    "from sqlalchemy.orm import sessionmaker\n",
    "\n",
    "# Supondo que você já tenha definido o Base e a classe Salario no Q2\n",
    "\n",
    "# Criar engine para o banco salarios.db (se já não tiver criado)\n",
    "engine = create_engine('sqlite:///salarios.db')\n",
    "\n",
    "# Criar as tabelas no banco (baseado nas classes ORM)\n",
    "Base.metadata.create_all(engine)\n",
    "\n",
    "print(\"Tabelas criadas com sucesso no banco salarios.db\")"
   ]
  },
  {
   "cell_type": "markdown",
   "metadata": {},
   "source": [
    "#### Q5. Populando\n",
    "\n",
    "Usando o método `to_sql` da biblioteca Pandas (veja [a documentação](https://pandas.pydata.org/docs/reference/api/pandas.DataFrame.to_sql.html)), popule o banco `salarios` com os dados do csv que você carregou na questão Q1.\n",
    "* Lembre-se de definir o parâmetro `if_exists='append'` para que as tabelas não sejam dropadas e recriadas."
   ]
  },
  {
   "cell_type": "code",
   "execution_count": 10,
   "metadata": {
    "vscode": {
     "languageId": "plaintext"
    }
   },
   "outputs": [
    {
     "name": "stdout",
     "output_type": "stream",
     "text": [
      "Dados inseridos com sucesso!\n"
     ]
    }
   ],
   "source": [
    "### Escreva sua resposta aqui\n",
    "import pandas as pd\n",
    "from sqlalchemy import create_engine\n",
    "\n",
    "# 1. Carregue o CSV novamente (caso não tenha carregado ainda)\n",
    "df = pd.read_csv('salaries.csv')\n",
    "\n",
    "# 2. Criar a engine do banco SQLite (caso não tenha criado ainda)\n",
    "engine = create_engine('sqlite:///salarios.db')\n",
    "\n",
    "# 3. Inserir os dados do DataFrame na tabela do banco\n",
    "# Nome da tabela deve ser o mesmo que você criou no ORM, por exemplo: 'salary' (confirme o nome)\n",
    "df.to_sql('salary', con=engine, if_exists='append', index=False)\n",
    "\n",
    "print(\"Dados inseridos com sucesso!\")"
   ]
  },
  {
   "cell_type": "markdown",
   "metadata": {},
   "source": [
    "#### Q6. Consultas SQL vs ORM\n",
    "\n",
    "Agrupe os dados por DESIGNATION e selecione o mínimo, máximo e a média dos salários (SALARY) divididos por 12. Já que o atributo SALARY é anual, dividir por 12 nos mostrará os valores mensais.\n",
    "\n",
    "Assumindo que a variável que armazena a sua conexão se chama `engine`, você deve realizar a query acima de três formas:\n",
    "* Executando a query SQL através de uma instância de conexão retornada pelo método `engine.connect()`\n",
    "* Executando a query SQL com o método `read_sql_query` do Pandas (veja [a documentação](https://pandas.pydata.org/docs/reference/api/pandas.read_sql_query.html)). Você usará mesma instância `engine.connect()` como um dos parâmetros.\n",
    "* Executando uma query criada com o módulo `select` do SQLAlchemy. Sua execução deve ser feita através de um objeto `Session` do módulo `orm` do SQLAlchemy (`Session(engine)`).\n"
   ]
  },
  {
   "cell_type": "code",
   "execution_count": 13,
   "metadata": {
    "vscode": {
     "languageId": "plaintext"
    }
   },
   "outputs": [
    {
     "name": "stdout",
     "output_type": "stream",
     "text": [
      "('Analyst', 3333.4166666666665, 4165.0, 3751.675987685993)\n",
      "('Associate', 5846.166666666667, 8300.25, 7266.915094339623)\n",
      "('Director', 17832.25, 32342.666666666668, 23914.265625)\n",
      "('Manager', 8343.666666666666, 12407.5, 10522.716049382716)\n",
      "('Senior Analyst', 4170.333333333333, 5830.5, 4991.778792134832)\n",
      "('Senior Manager', 12614.416666666666, 16631.416666666668, 14888.689516129032)\n"
     ]
    }
   ],
   "source": [
    "### Execute aqui sua query SQL com SQLAlchemy\n",
    "# Criar engine\n",
    "engine = create_engine('sqlite:///salarios.db')\n",
    "\n",
    "# Criar tabela\n",
    "Base.metadata.create_all(engine)\n",
    "\n",
    "# Inserir dados\n",
    "df.to_sql('salaries', con=engine, if_exists='append', index=False)\n",
    "\n",
    "# Consultar\n",
    "from sqlalchemy import text\n",
    "with engine.connect() as conn:\n",
    "    query = text(\"\"\"\n",
    "        SELECT DESIGNATION,\n",
    "               MIN(SALARY / 12.0) AS min_salary_monthly,\n",
    "               MAX(SALARY / 12.0) AS max_salary_monthly,\n",
    "               AVG(SALARY / 12.0) AS avg_salary_monthly\n",
    "        FROM salaries\n",
    "        GROUP BY DESIGNATION\n",
    "        ORDER BY DESIGNATION\n",
    "    \"\"\")\n",
    "    result = conn.execute(query)\n",
    "    for row in result:\n",
    "        print(row)"
   ]
  },
  {
   "cell_type": "code",
   "execution_count": 14,
   "metadata": {
    "vscode": {
     "languageId": "plaintext"
    }
   },
   "outputs": [
    {
     "name": "stdout",
     "output_type": "stream",
     "text": [
      "      DESIGNATION  min_salary_monthly  max_salary_monthly  avg_salary_monthly\n",
      "0         Analyst         3333.416667         4165.000000         3751.675988\n",
      "1       Associate         5846.166667         8300.250000         7266.915094\n",
      "2        Director        17832.250000        32342.666667        23914.265625\n",
      "3         Manager         8343.666667        12407.500000        10522.716049\n",
      "4  Senior Analyst         4170.333333         5830.500000         4991.778792\n",
      "5  Senior Manager        12614.416667        16631.416667        14888.689516\n"
     ]
    }
   ],
   "source": [
    "### Execute aqui sua query SQL com SQLAlchemy + Pandas\n",
    "import pandas as pd\n",
    "from sqlalchemy import create_engine\n",
    "\n",
    "# Supondo que o engine já esteja criado\n",
    "# engine = create_engine('sqlite:///salarios.db')\n",
    "\n",
    "query = \"\"\"\n",
    "    SELECT DESIGNATION,\n",
    "           MIN(SALARY / 12.0) AS min_salary_monthly,\n",
    "           MAX(SALARY / 12.0) AS max_salary_monthly,\n",
    "           AVG(SALARY / 12.0) AS avg_salary_monthly\n",
    "    FROM salaries\n",
    "    GROUP BY DESIGNATION\n",
    "    ORDER BY DESIGNATION\n",
    "\"\"\"\n",
    "\n",
    "# Executa a query com pandas e SQLAlchemy\n",
    "df = pd.read_sql_query(query, engine)\n",
    "\n",
    "print(df)"
   ]
  },
  {
   "cell_type": "code",
   "execution_count": 17,
   "metadata": {
    "vscode": {
     "languageId": "plaintext"
    }
   },
   "outputs": [
    {
     "name": "stderr",
     "output_type": "stream",
     "text": [
      "C:\\Users\\PDBD217\\AppData\\Local\\Temp\\ipykernel_24280\\1324546842.py:6: MovedIn20Warning: The ``declarative_base()`` function is now available as sqlalchemy.orm.declarative_base(). (deprecated since: 2.0) (Background on SQLAlchemy 2.0 at: https://sqlalche.me/e/b8d9)\n",
      "  Base = declarative_base()\n"
     ]
    }
   ],
   "source": [
    "### Execute aqui sua query com SQLAlchemy ORM\n",
    "from sqlalchemy.ext.declarative import declarative_base\n",
    "from sqlalchemy import Column, Integer, String, Float, Date, Enum\n",
    "import enum\n",
    "\n",
    "Base = declarative_base()\n",
    "\n",
    "class SexEnum(enum.Enum):\n",
    "    F = 'F'\n",
    "    M = 'M'\n",
    "\n",
    "class DesignationEnum(enum.Enum):\n",
    "    Analyst = 'Analyst'\n",
    "    Associate = 'Associate'\n",
    "    Director = 'Director'\n",
    "    Manager = 'Manager'\n",
    "    Senior_Analyst = 'Senior Analyst'\n",
    "    Senior_Manager = 'Senior Manager'\n",
    "\n",
    "class UnitEnum(enum.Enum):\n",
    "    TI = 'TI'\n",
    "    Finance = 'Finance'\n",
    "    Marketing = 'Marketing'\n",
    "\n",
    "class Salary(Base):\n",
    "    __tablename__ = 'salaries'\n",
    "    ID = Column(Integer, primary_key=True, autoincrement=True)\n",
    "    FIRST_NAME = Column(String)\n",
    "    LAST_NAME = Column(String)\n",
    "    SEX = Column(Enum(SexEnum))\n",
    "    DOJ = Column(Date)\n",
    "    CURRENT_DATE = Column(Date)\n",
    "    DESIGNATION = Column(Enum(DesignationEnum))\n",
    "    AGE = Column(Integer)\n",
    "    SALARY = Column(Float)\n",
    "    UNIT = Column(Enum(UnitEnum))\n",
    "    LEAVES_USED = Column(Integer)\n",
    "    LEAVES_REMAINING = Column(Integer)\n",
    "    RATINGS = Column(Float)\n",
    "    PAST_EXP = Column(Float)"
   ]
  },
  {
   "cell_type": "code",
   "execution_count": null,
   "metadata": {},
   "outputs": [],
   "source": []
  }
 ],
 "metadata": {
  "kernelspec": {
   "display_name": "Python 3 (ipykernel)",
   "language": "python",
   "name": "python3"
  },
  "language_info": {
   "codemirror_mode": {
    "name": "ipython",
    "version": 3
   },
   "file_extension": ".py",
   "mimetype": "text/x-python",
   "name": "python",
   "nbconvert_exporter": "python",
   "pygments_lexer": "ipython3",
   "version": "3.13.5"
  }
 },
 "nbformat": 4,
 "nbformat_minor": 4
}
