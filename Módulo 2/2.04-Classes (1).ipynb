{
 "cells": [
  {
   "cell_type": "markdown",
   "metadata": {},
   "source": [
    "> Projeto Desenvolve <br>\n",
    "Programação Intermediária com Python <br>\n",
    "Profa. Camila Laranjeira (mila@projetodesenvolve.com.br) <br>\n",
    "\n",
    "# 2.4 - Classes, atributos e métodos"
   ]
  },
  {
   "cell_type": "markdown",
   "metadata": {},
   "source": [
    "## Exercícios\n",
    "\n",
    "#### Q1.\n",
    "Vamos criar aos pouquinhos uma classe Evento que registra eventos de um calendário. Pra começar, nessa questão você deve:\n",
    "\n",
    "* Criar uma classe chamada Evento\n",
    "* Adicionar um atributo de classe `total_eventos` que será usado para contar o número total de eventos (instâncias de classe) criadas.\n",
    "* Implemente o método construtor que deve receber os parâmetros `titulo` (`string`), `data_hora` (`datetime`), `descrição` (`string`). Crie e inicialize um atributo de instância para cada um dos parâmetros citados.\n",
    "* O construtor também deve inicializar um atributo de instância `is_concluido = False`. Esse atributo será utilizado mais à frente. \n",
    "* No construtor você também deve incrementar o atributo de classe `total_eventos` em 1 a cada nova instância criada.\n",
    "\n",
    "Teste o seu código criando duas diferentes instâncias de evento (preencha os atributos como quiser) e imprimindo todos os seus atributos (de classe e de instância).\n",
    "\n",
    "> Consulte [este tutorial biblioteca `datetime`](https://www.w3schools.com/python/python_datetime.asp) caso não esteja familiarizado."
   ]
  },
  {
   "cell_type": "code",
   "execution_count": 1,
   "metadata": {
    "vscode": {
     "languageId": "plaintext"
    }
   },
   "outputs": [
    {
     "name": "stdout",
     "output_type": "stream",
     "text": [
      "\n",
      "Evento 1:\n",
      "Título: Reunião com equipe\n",
      "Data e hora: 2025-07-14 10:00:00\n",
      "Descrição: Discutir o andamento do projeto\n",
      "Concluído? False\n",
      "\n",
      "Evento 2:\n",
      "Título: Apresentação final\n",
      "Data e hora: 2025-07-20 15:30:00\n",
      "Descrição: Apresentação do Trabalho Prático na PretaLab\n",
      "Concluído? False\n",
      "\n",
      "Total de eventos criados: 2\n"
     ]
    }
   ],
   "source": [
    "### Escreva seu código aqui\n",
    "from datetime import datetime\n",
    "\n",
    "class Evento:\n",
    "    total_eventos = 0  # Atributo de classe\n",
    "\n",
    "    def __init__(self, titulo, data_hora, descricao):\n",
    "        self.titulo = titulo\n",
    "        self.data_hora = data_hora\n",
    "        self.descricao = descricao\n",
    "        self.is_concluido = False  # Inicia como não concluído\n",
    "        Evento.total_eventos += 1  # Incrementa o total de eventos\n",
    "\n",
    "# Teste\n",
    "evento1 = Evento(\n",
    "    titulo=\"Reunião com equipe\",\n",
    "    data_hora=datetime(2025, 7, 14, 10, 0),\n",
    "    descricao=\"Discutir o andamento do projeto\"\n",
    ")\n",
    "\n",
    "evento2 = Evento(\n",
    "    titulo=\"Apresentação final\",\n",
    "    data_hora=datetime(2025, 7, 20, 15, 30),\n",
    "    descricao=\"Apresentação do Trabalho Prático na PretaLab\"\n",
    ")\n",
    "\n",
    "# Impressão dos atributos\n",
    "for i, evento in enumerate([evento1, evento2], start=1):\n",
    "    print(f\"\\nEvento {i}:\")\n",
    "    print(\"Título:\", evento.titulo)\n",
    "    print(\"Data e hora:\", evento.data_hora)\n",
    "    print(\"Descrição:\", evento.descricao)\n",
    "    print(\"Concluído?\", evento.is_concluido)\n",
    "\n",
    "print(\"\\nTotal de eventos criados:\", Evento.total_eventos)"
   ]
  },
  {
   "cell_type": "markdown",
   "metadata": {},
   "source": [
    "#### Q2.\n",
    "Agora vamos adicionar métodos à nossa classe. Lembre dos diferentes decoradores que aprendemos. Você deve redefinir a classe com os seguintes métodos:\n",
    "* Um método `isConcluido()` que avalia se a `data_hora` do evento é menor que `datetime.now()` (a data e hora atual). Em caso positivo, atualiza o atributo de instância `is_concluido` para o valor `True`. \n",
    "* Um método de classe `num_eventos()` que retorna o valor do atributo de classe `total_eventos`.\n",
    "* Um método estático `valida_evento(nome, data_hora, descricao)` que recebe os atributos de um evento e testa os tipos de cada variável, retornando `True` caso todos estejam corretos e `False` caso contrário. Para o teste, use a função nativa do Python [`isinstance`](https://www.w3schools.com/python/ref_func_isinstance.asp).\n",
    "\n",
    "Para testar sua classe atualizada:\n",
    "* Crie uma instância de Evento com valor passado e chame o método `isConcluido()` para a instância criada. Em seguida imprima o atributo `is_concluido`. \n",
    "* Invoque o método de classe `num_eventos()` a partir da classe Evento (ou seja, sem criar nenhuma instância).\n",
    "* Chame o método estático `valida_evento()` a partir da classe Evento. Experimente passar valores corretos e incorretos. \n"
   ]
  },
  {
   "cell_type": "code",
   "execution_count": 2,
   "metadata": {
    "vscode": {
     "languageId": "plaintext"
    }
   },
   "outputs": [
    {
     "name": "stdout",
     "output_type": "stream",
     "text": [
      "Evento está concluído? True\n",
      "Número total de eventos criados: 1\n",
      "Validação correta: True\n",
      "Validação incorreta: False\n"
     ]
    }
   ],
   "source": [
    "from datetime import datetime\n",
    "\n",
    "class Evento:\n",
    "    total_eventos = 0  # Atributo de classe\n",
    "\n",
    "    def __init__(self, titulo, data_hora, descricao):\n",
    "        self.titulo = titulo\n",
    "        self.data_hora = data_hora\n",
    "        self.descricao = descricao\n",
    "        self.is_concluido = False\n",
    "        Evento.total_eventos += 1\n",
    "\n",
    "    def isConcluido(self):\n",
    "        if self.data_hora < datetime.now():\n",
    "            self.is_concluido = True\n",
    "\n",
    "    @classmethod\n",
    "    def num_eventos(cls):\n",
    "        return cls.total_eventos\n",
    "\n",
    "    @staticmethod\n",
    "    def valida_evento(nome, data_hora, descricao):\n",
    "        return (\n",
    "            isinstance(nome, str) and\n",
    "            isinstance(data_hora, datetime) and\n",
    "            isinstance(descricao, str)\n",
    "        )\n",
    "\n",
    "# 1. Criar instância com data passada e testar isConcluido\n",
    "evento_passado = Evento(\n",
    "    titulo=\"Evento Antigo\",\n",
    "    data_hora=datetime(2024, 7, 1, 10, 0),\n",
    "    descricao=\"Esse evento já aconteceu\"\n",
    ")\n",
    "\n",
    "evento_passado.isConcluido()\n",
    "print(\"Evento está concluído?\", evento_passado.is_concluido)  # Esperado: True\n",
    "\n",
    "# 2. Invocar o método de classe num_eventos\n",
    "print(\"Número total de eventos criados:\", Evento.num_eventos())\n",
    "\n",
    "# 3. Chamar o método estático valida_evento\n",
    "print(\"Validação correta:\", Evento.valida_evento(\"Nome\", datetime.now(), \"Descrição\"))  # Esperado: True\n",
    "print(\"Validação incorreta:\", Evento.valida_evento(123, \"hoje\", True))  # Esperado: False"
   ]
  },
  {
   "cell_type": "markdown",
   "metadata": {
    "vscode": {
     "languageId": "plaintext"
    }
   },
   "source": [
    "#### Q3.\n",
    "\n",
    "Vamos incluir métodos mágicos! ✨🪄🔮\n",
    "\n",
    "Redefina a classe incluindo\":\n",
    "* Método `__str__` que imprime os atributos do evento na forma `\"Evento: titulo, Data: data_hora, Descrição: descricao, Concluido: is_concluido\"`.\n",
    "* Implemente os métodos de comparação `__eq__`, `__ne__`, `__lt__`, `__le__`, `__gt__` e `__ge__` para comparar eventos baseados no atributo `data_hora`. Esses métodos devem comparar duas instâncias de Evento e retornar os resultados apropriados (`True` ou `False`).\n",
    "\n",
    "Para testar, crie duas instâncias de Evento com datas diferentes. Imprima as instâncias com a função `print()` e apresente o resultado das comparações entre eventos (`==`, `!=`, `<`, `<=`, `>`, `>=`)."
   ]
  },
  {
   "cell_type": "code",
   "execution_count": 3,
   "metadata": {
    "vscode": {
     "languageId": "plaintext"
    }
   },
   "outputs": [
    {
     "name": "stdout",
     "output_type": "stream",
     "text": [
      "Evento: Reunião, Data: 2025-07-15 14:00:00, Descrição: Reunião com equipe, Concluído: False\n",
      "Evento: Treinamento, Data: 2025-07-20 10:00:00, Descrição: Treinamento interno, Concluído: False\n",
      "evento1 == evento2: False\n",
      "evento1 != evento2: True\n",
      "evento1 < evento2: True\n",
      "evento1 <= evento2: True\n",
      "evento1 > evento2: False\n",
      "evento1 >= evento2: False\n"
     ]
    }
   ],
   "source": [
    "from datetime import datetime\n",
    "\n",
    "class Evento:\n",
    "    total_eventos = 0  # Atributo de classe\n",
    "\n",
    "    def __init__(self, titulo, data_hora, descricao):\n",
    "        self.titulo = titulo\n",
    "        self.data_hora = data_hora\n",
    "        self.descricao = descricao\n",
    "        self.is_concluido = False\n",
    "        Evento.total_eventos += 1\n",
    "\n",
    "    def isConcluido(self):\n",
    "        if self.data_hora < datetime.now():\n",
    "            self.is_concluido = True\n",
    "\n",
    "    @classmethod\n",
    "    def num_eventos(cls):\n",
    "        return cls.total_eventos\n",
    "\n",
    "    @staticmethod\n",
    "    def valida_evento(nome, data_hora, descricao):\n",
    "        return (\n",
    "            isinstance(nome, str) and\n",
    "            isinstance(data_hora, datetime) and\n",
    "            isinstance(descricao, str)\n",
    "        )\n",
    "\n",
    "    # ✅ Método mágico __str__\n",
    "    def __str__(self):\n",
    "        return f\"Evento: {self.titulo}, Data: {self.data_hora}, Descrição: {self.descricao}, Concluído: {self.is_concluido}\"\n",
    "\n",
    "    # ✅ Métodos mágicos de comparação baseados em data_hora\n",
    "    def __eq__(self, other):\n",
    "        return self.data_hora == other.data_hora\n",
    "\n",
    "    def __ne__(self, other):\n",
    "        return self.data_hora != other.data_hora\n",
    "\n",
    "    def __lt__(self, other):\n",
    "        return self.data_hora < other.data_hora\n",
    "\n",
    "    def __le__(self, other):\n",
    "        return self.data_hora <= other.data_hora\n",
    "\n",
    "    def __gt__(self, other):\n",
    "        return self.data_hora > other.data_hora\n",
    "\n",
    "    def __ge__(self, other):\n",
    "        return self.data_hora >= other.data_hora\n",
    "\n",
    "\n",
    "# Criando duas instâncias com datas diferentes\n",
    "evento1 = Evento(\"Reunião\", datetime(2025, 7, 15, 14, 0), \"Reunião com equipe\")\n",
    "evento2 = Evento(\"Treinamento\", datetime(2025, 7, 20, 10, 0), \"Treinamento interno\")\n",
    "\n",
    "# Imprimindo os eventos\n",
    "print(evento1)\n",
    "print(evento2)\n",
    "\n",
    "# Comparações\n",
    "print(\"evento1 == evento2:\", evento1 == evento2)\n",
    "print(\"evento1 != evento2:\", evento1 != evento2)\n",
    "print(\"evento1 < evento2:\", evento1 < evento2)\n",
    "print(\"evento1 <= evento2:\", evento1 <= evento2)\n",
    "print(\"evento1 > evento2:\", evento1 > evento2)\n",
    "print(\"evento1 >= evento2:\", evento1 >= evento2)"
   ]
  }
 ],
 "metadata": {
  "kernelspec": {
   "display_name": "Python 3 (ipykernel)",
   "language": "python",
   "name": "python3"
  },
  "language_info": {
   "codemirror_mode": {
    "name": "ipython",
    "version": 3
   },
   "file_extension": ".py",
   "mimetype": "text/x-python",
   "name": "python",
   "nbconvert_exporter": "python",
   "pygments_lexer": "ipython3",
   "version": "3.13.5"
  }
 },
 "nbformat": 4,
 "nbformat_minor": 4
}
